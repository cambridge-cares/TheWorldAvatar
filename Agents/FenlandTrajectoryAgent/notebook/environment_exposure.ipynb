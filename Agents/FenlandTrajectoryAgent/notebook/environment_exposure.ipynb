{
 "cells": [
  {
   "cell_type": "markdown",
   "id": "1cc2ccc2",
   "metadata": {},
   "source": [
    "This Jupyter notebook demonstrate the work done in [\"Assessment of individualised dynamic environmental exposures within The World Avatar\" by Chen et al., Technical Report 337, c4e-Preprint Series, Cambridge, 2025.](https://como.ceb.cam.ac.uk/preprints/337/).\n",
    "\n",
    "The complete codes developed for this work are available under an open-source licence on GitHub in The World Avatar repository [https://github.com/cambridge-cares/TheWorldAvatar](https://github.com/cambridge-cares/TheWorldAvatar).\n",
    "\n",
    "The notebook serves as a data exploration interface and may not generalize to any trajectory IRI provided. For general use case, please refer to the complete code in The World Avatar repository."
   ]
  },
  {
   "cell_type": "markdown",
   "id": "72bb290e",
   "metadata": {},
   "source": [
    "# Configuration\n",
    "\n",
    "## Environment Data\n",
    "Environment data from TWA knowledge graph is accessed through SPARQL endpoint. The endpoint is pre-configured at `config.env` and can be changed to other endpoints as needed.\n",
    "\n",
    "## Trajectory Data\n",
    "User is expected to provide the trajctory data in Postgres database and input the database configuration in `config.env`. \n",
    "- DB_HOST\n",
    "- DB_PORT\n",
    "- DB_DBNAME\n",
    "- DB_USER\n",
    "- DB_PASSWORD\n",
    "\n",
    "Data is required to store in the same format as described in [here](https://github.com/TheWorldAvatar/baselib/tree/main/src/main/java/uk/ac/cam/cares/jps/base/timeseries#instantiation-in-rdb-using-timeseriesrdbclient). \n",
    "\n",
    "User may choose to \n",
    "- collect data with [TWA TimelineApp](https://github.com/cambridge-cares/TheWorldAvatar/tree/main/Apps/TimelineApp), which is compatible with the code in this notebook and the full version.\n",
    "- instantiate data with CSV as describing in [here](https://github.com/cambridge-cares/TheWorldAvatar/tree/main/Agents/FenlandTrajectoryAgent#31-placing-the-gps-data)\n",
    "\n",
    "## Template\n",
    "SPARQL and SQL queries are provided as template files in `template/`. No additional configuration is needed."
   ]
  },
  {
   "cell_type": "markdown",
   "id": "c2995d45",
   "metadata": {},
   "source": [
    "#  Setup TWA connection"
   ]
  },
  {
   "cell_type": "code",
   "execution_count": null,
   "id": "961123f6",
   "metadata": {
    "vscode": {
     "languageId": "powershell"
    }
   },
   "outputs": [],
   "source": [
    "from twa.kg_operations import PySparqlClient\n",
    "from twa.conf import config_generic, Config\n",
    "\n",
    "from typing import Optional, Tuple, List, Dict\n",
    "import psycopg2\n",
    "import pandas as pd\n",
    "import os\n",
    "\n",
    "import matplotlib.pyplot as plt\n",
    "from shapely import wkb, wkt\n",
    "from shapely.geometry import Point, LineString, Polygon\n",
    "from pyproj import CRS, Transformer, Geod\n",
    "from shapely.ops import transform\n",
    "from shapely.wkb import loads as wkb_loads\n",
    "from shapely.strtree import STRtree\n",
    "from shapely.affinity import translate\n",
    "import re\n",
    "import binascii"
   ]
  },
  {
   "cell_type": "code",
   "execution_count": null,
   "id": "8f6c655a",
   "metadata": {
    "vscode": {
     "languageId": "powershell"
    }
   },
   "outputs": [],
   "source": [
    "class EnvConfig(Config):\n",
    "    SPARQL_QUERY_ENDPOINT: str\n",
    "    TEMPLATE_DIR: str\n",
    "    DB_HOST: str\n",
    "    DB_PORT: str\n",
    "    DB_DBNAME: str\n",
    "    DB_USER: str\n",
    "    DB_PASSWORD: str"
   ]
  },
  {
   "cell_type": "code",
   "execution_count": null,
   "id": "0df0c929",
   "metadata": {},
   "outputs": [],
   "source": [
    "CONFIG_DIR = os.getenv(\"CONFIG_DIR\", 'config.env')\n",
    "env_confg = config_generic(EnvConfig, env_file=CONFIG_DIR)\n",
    "\n",
    "sparql_client = PySparqlClient(\n",
    "    query_endpoint = env_confg.SPARQL_QUERY_ENDPOINT,\n",
    "    update_endpoint = \"\"\n",
    ")\n",
    "\n",
    "template_dir = env_confg.TEMPLATE_DIR\n",
    "\n",
    "db_params = {\n",
    "    \"host\": env_confg.DB_HOST,\n",
    "    \"port\": env_confg.DB_PORT,\n",
    "    \"dbname\": env_confg.DB_DBNAME,\n",
    "    \"user\": env_confg.DB_USER,\n",
    "    \"password\": env_confg.DB_PASSWORD\n",
    "}\n",
    "\n",
    "exposure_radius = 100"
   ]
  },
  {
   "cell_type": "markdown",
   "id": "aec94305",
   "metadata": {},
   "source": [
    "# Pull data from TWA"
   ]
  },
  {
   "cell_type": "markdown",
   "id": "ff67e091",
   "metadata": {},
   "source": [
    "Exposure calculation util"
   ]
  },
  {
   "cell_type": "code",
   "execution_count": null,
   "id": "1829f648",
   "metadata": {},
   "outputs": [],
   "source": [
    "def load_template(filename: str) -> str:\n",
    "    filepath = os.path.join(template_dir, filename)\n",
    "    with open(filepath, \"r\", encoding=\"utf-8\") as f:\n",
    "        content = f.read()\n",
    "    return content\n",
    "\n",
    "def execute_query(query: str, params: Optional[tuple] = None):\n",
    "    with psycopg2.connect(**db_params) as conn:\n",
    "        with conn.cursor() as cur:\n",
    "            cur.execute(query, params)\n",
    "            results = cur.fetchall()\n",
    "            return results"
   ]
  },
  {
   "cell_type": "markdown",
   "id": "79651a43",
   "metadata": {},
   "source": [
    "## Fetch environment data from knowledge graph"
   ]
  },
  {
   "cell_type": "markdown",
   "id": "f86ff770",
   "metadata": {},
   "source": [
    "Fetch food retails data for the year 2025 in Cambridge, UK."
   ]
  },
  {
   "cell_type": "code",
   "execution_count": null,
   "id": "45388906",
   "metadata": {},
   "outputs": [],
   "source": [
    "food_hygiene_iri = \"http://www.theworldavatar.com/ontology/OntoFHRS/FoodHygieneRating\"\n",
    "food_hygiene_rating_template = load_template('get_food_hygiene_rating.sparql')\n",
    "food_hygiene_rating = pd.DataFrame(sparql_client.perform_query(food_hygiene_rating_template))\n",
    "food_hygiene_rating.head()"
   ]
  },
  {
   "cell_type": "markdown",
   "id": "d7a2781a",
   "metadata": {},
   "source": [
    "Fetch greenspace data for the year 2023 in Cambridge, UK."
   ]
  },
  {
   "cell_type": "code",
   "execution_count": null,
   "id": "12307efb",
   "metadata": {},
   "outputs": [],
   "source": [
    "\n",
    "green_space_template = load_template(\"get_greenspace_area.sparql\")\n",
    "green_space = pd.DataFrame(sparql_client.perform_query(green_space_template))\n",
    "green_space.head()"
   ]
  },
  {
   "cell_type": "markdown",
   "id": "07289aa3",
   "metadata": {},
   "source": [
    "## Fetch trajectory from database"
   ]
  },
  {
   "cell_type": "code",
   "execution_count": null,
   "id": "a14618d8",
   "metadata": {},
   "outputs": [],
   "source": [
    "def get_table_name_for_timeseries(timeseriesIRI: str) -> str:\n",
    "    try:\n",
    "        query_template = load_template(\"get_table_name_for_timeseries.sql\")\n",
    "        rows = execute_query(query_template, (timeseriesIRI,))\n",
    "        if rows:\n",
    "            return rows[0][0]\n",
    "    except Exception as e:\n",
    "        print(f\"[Fallback] Primary get_table_name failed: {e}\")\n",
    "\n",
    "    # Try fallback\n",
    "    fallback_template = load_template(\"get_table_name_for_timeseries_fallback.sql\")\n",
    "    rows = execute_query(fallback_template, (timeseriesIRI,))\n",
    "    if not rows:\n",
    "        raise ValueError(f\"No fallback tableName found for timeseriesIRI: {timeseriesIRI}\")\n",
    "    return rows[0][0]\n",
    "\n",
    "def get_timeseries_data(table_name: str, trajectory_iri: str) -> pd.DataFrame:\n",
    "    \"\"\"\n",
    "    Retrieve raw timeseries data from database.\n",
    "    Automatically detects whether 'Trip index' column exists and selects the correct SQL template.\n",
    "    Returns DataFrame with appropriate columns.\n",
    "    \"\"\"\n",
    "    try:\n",
    "        check_sql = load_template(\"check_trip_index_column.sql\")\n",
    "        result = execute_query(check_sql, (table_name,))\n",
    "        has_trip_index = bool(result)\n",
    "    except Exception as e:\n",
    "        print(f\"[Trip index] Failed to check for 'Trip index' column: {e}\")\n",
    "        has_trip_index = False\n",
    "\n",
    "    try:\n",
    "        if has_trip_index:\n",
    "            print(f\"[Trip index] Detected in table: {table_name}\")\n",
    "            sql_template_name = \"get_timeseries_data_with_trip.sql\"\n",
    "        else:\n",
    "            print(f\"[Trip index] Not found, using fallback SQL.\")\n",
    "            sql_template_name = \"get_timeseries_data.sql\"\n",
    "\n",
    "        query_template = load_template(sql_template_name)\n",
    "        query = query_template.format(table_name=table_name)\n",
    "        rows = execute_query(query)\n",
    "\n",
    "        base_cols = [\"time\", \"column1\", \"column2\", \"column3\", \"column4\", \"column5\", \"column6\", \"column7\"]\n",
    "        if has_trip_index:\n",
    "            base_cols.append(\"Trip index\")\n",
    "\n",
    "        return pd.DataFrame(rows, columns=base_cols)\n",
    "\n",
    "    except Exception as primary_exception:\n",
    "        print(f\"[Fallback] Primary SQL failed for {table_name}: {primary_exception}\")\n",
    "        \n",
    "        # Run fallback version\n",
    "        try:\n",
    "            fallback_template = load_template(\"get_timeseries_data_fallback.sql\")\n",
    "            query = fallback_template.format(table_name=table_name)\n",
    "            rows = execute_query(query, (trajectory_iri,))\n",
    "\n",
    "            return pd.DataFrame(rows, columns=[\"time\", \"LATITUDE\", \"LONGITUDE\"])\n",
    "\n",
    "        except Exception as fallback_exception:\n",
    "            print(f\"[Fallback] Failed for {table_name}: {fallback_exception}\")\n",
    "            raise fallback_exception\n"
   ]
  },
  {
   "cell_type": "code",
   "execution_count": null,
   "id": "9f195400",
   "metadata": {},
   "outputs": [],
   "source": [
    "trajectory_iri = 'https://www.theworldavatar.com/kg/ontotimeseries/Timeseries_f93edf67-8144-4cea-a57d-42cd1cae7fb8'\n",
    "table_name = get_table_name_for_timeseries(trajectory_iri)\n",
    "trajectory_df = get_timeseries_data(table_name, trajectory_iri).sort_values(by='time', ascending=True) \n",
    "\n",
    "print(f'Trajectory contains {len(trajectory_df)} points')\n",
    "trajectory_df.head()\n"
   ]
  },
  {
   "cell_type": "markdown",
   "id": "1dbb1a9e",
   "metadata": {},
   "source": [
    "# Process trajecotry data\n"
   ]
  },
  {
   "cell_type": "markdown",
   "id": "fc86b425",
   "metadata": {},
   "source": [
    "## Group as trips"
   ]
  },
  {
   "cell_type": "code",
   "execution_count": null,
   "id": "92f4f0da",
   "metadata": {
    "vscode": {
     "languageId": "powershell"
    }
   },
   "outputs": [],
   "source": [
    "# trajectory buffer\n",
    "if 'Trip index' in trajectory_df.columns:\n",
    "    trip_index_col = [col for col in trajectory_df.columns if col.lower().replace(\" \", \"_\") == \"trip_index\"][0]\n",
    "    trip_df = trajectory_df[trajectory_df[trip_index_col].fillna(0).astype(int) > 0].sort_values(by='time', ascending=True)\n",
    "    grouped = trip_df.groupby(trip_index_col)\n",
    "\n",
    "    print(f'Group of trips: {grouped.ngroups}')\n",
    "else:\n",
    "    trip_df = trajectory_df.copy().sort_values(by='time', ascending=True)\n",
    "    trip_df[\"trip_index\"] = 1\n",
    "    grouped = trip_df.groupby(\"trip_index\")\n",
    "    print(f'Group of trips: {grouped.ngroups}')"
   ]
  },
  {
   "cell_type": "code",
   "execution_count": null,
   "id": "3404116d",
   "metadata": {
    "vscode": {
     "languageId": "powershell"
    }
   },
   "outputs": [],
   "source": [
    "grouped.head()"
   ]
  },
  {
   "cell_type": "code",
   "execution_count": null,
   "id": "afbd5a92",
   "metadata": {
    "vscode": {
     "languageId": "powershell"
    }
   },
   "outputs": [],
   "source": [
    "for name, group_df in grouped:\n",
    "    coords = [\n",
    "        (pt.x, pt.y)\n",
    "        for pt in (wkb.loads(bytes.fromhex(hex_str)) for hex_str in list(group_df['column7']))\n",
    "    ]\n",
    "    x, y = zip(*coords)\n",
    "    plt.scatter(x, y, label=f\"Trip {name}\")\n",
    "    \n",
    "plt.title(\"Trips\")\n",
    "plt.xlabel(\"Longitude\")\n",
    "plt.ylabel(\"Latitude\") \n",
    "plt.grid(True)  \n",
    "plt.legend()\n",
    "plt.show()"
   ]
  },
  {
   "cell_type": "markdown",
   "id": "85984622",
   "metadata": {},
   "source": [
    "## Buffer trajctory"
   ]
  },
  {
   "cell_type": "code",
   "execution_count": null,
   "id": "306312d2",
   "metadata": {
    "vscode": {
     "languageId": "powershell"
    }
   },
   "outputs": [],
   "source": [
    "group_processes = {}\n",
    "coords_whole_trajectory = [\n",
    "        (pt.x, pt.y)\n",
    "        for pt in (wkb.loads(bytes.fromhex(hex_str)) for hex_str in list(trajectory_df['column7']))\n",
    "    ]\n",
    "\n",
    "for name, group_df in grouped:\n",
    "    coords = [\n",
    "        (pt.x, pt.y)\n",
    "        for pt in (wkb.loads(bytes.fromhex(hex_str)) for hex_str in list(group_df['column7']))\n",
    "    ]\n",
    "    base_geom = LineString(coords)\n",
    "    \n",
    "    # centroid = base_geom.centroid\n",
    "    centroid = LineString(coords_whole_trajectory).centroid\n",
    "    aeqd_crs = CRS.from_proj4(f\"+proj=aeqd +lat_0={centroid.y} +lon_0={centroid.x} +units=m\")\n",
    "    to_aeqd = Transformer.from_crs(4326, aeqd_crs, always_xy=True).transform\n",
    "    to_wgs84 = Transformer.from_crs(aeqd_crs, 4326, always_xy=True).transform\n",
    "\n",
    "    proj_base = transform(to_aeqd, base_geom)\n",
    "\n",
    "    group_processes[name] = {\n",
    "        \"aeqd_crs\": aeqd_crs,\n",
    "        \"to_aeqd\": to_aeqd,\n",
    "        \"to_wgs84\": to_wgs84,\n",
    "        \"buffer_proj\": proj_base.buffer(exposure_radius)\n",
    "        }"
   ]
  },
  {
   "cell_type": "code",
   "execution_count": null,
   "id": "de78534d",
   "metadata": {
    "vscode": {
     "languageId": "powershell"
    }
   },
   "outputs": [],
   "source": [
    "print(len(group_processes))"
   ]
  },
  {
   "cell_type": "markdown",
   "id": "ab6cf381",
   "metadata": {},
   "source": [
    "# Exposure Calculation"
   ]
  },
  {
   "cell_type": "markdown",
   "id": "7a497491",
   "metadata": {},
   "source": [
    "## Greenspace exposure\n",
    "\n",
    "Demonstrate area environement features exposure"
   ]
  },
  {
   "cell_type": "markdown",
   "id": "69f282c5",
   "metadata": {
    "vscode": {
     "languageId": "powershell"
    }
   },
   "source": [
    "### 1. Process environment data\n",
    "Project area features to the same plane as the trajectory"
   ]
  },
  {
   "cell_type": "code",
   "execution_count": null,
   "id": "e6e130be",
   "metadata": {},
   "outputs": [],
   "source": [
    "def fetch_env_crs(env_data_iri: str, feature_type: str) -> str:\n",
    "    \"\"\"\n",
    "    Returns a CRS URI for a geometry; falls back to 4326 for POINT if not found.\n",
    "    \"\"\"\n",
    "    # Minimal change: directly load template\n",
    "    template = load_template(\"get_crs_for_env_data.sparql\")\n",
    "    sparql = template.format(env_data_iri=env_data_iri)\n",
    "    crs = sparql_client.perform_query(sparql)\n",
    "    \n",
    "    if crs:\n",
    "        return crs[0]['crs']\n",
    "\n",
    "    # If not found or error, use default value\n",
    "    if feature_type.upper() == \"POINT\":\n",
    "        return \"http://www.opengis.net/def/crs/EPSG/0/4326\"\n",
    "    return \"http://www.opengis.net/def/crs/EPSG/0/4326\""
   ]
  },
  {
   "cell_type": "code",
   "execution_count": null,
   "id": "dbd8cd1b",
   "metadata": {
    "vscode": {
     "languageId": "powershell"
    }
   },
   "outputs": [],
   "source": [
    "crs_uri = fetch_env_crs(\"https://www.theworldavatar.com/kg/ontogreenspace/Greenspace\", \"AREA\")\n",
    "m = re.search(r\"EPSG/0/(\\d+)\", crs_uri)\n",
    "src_epsg = int(m.group(1)) if m else 4326\n",
    "\n",
    "for process_info in group_processes:\n",
    "    to_env = Transformer.from_crs(f\"EPSG:{src_epsg}\", group_processes[process_info]['aeqd_crs'], always_xy=True).transform\n",
    "    proj_greenspace = []\n",
    "    for _, row in green_space.iterrows():\n",
    "        wkb_hex = row.get(\"geometry\", \"\")\n",
    "        if not wkb_hex or wkb_hex == \"N/A\":\n",
    "            continue\n",
    "\n",
    "        try:\n",
    "            poly_src = wkb_loads(binascii.unhexlify(wkb_hex), hex=True)\n",
    "            proj_greenspace.append((transform(to_env, poly_src), None))\n",
    "        except Exception:\n",
    "            continue\n",
    "    group_processes[process_info]['proj_greenspace'] = proj_greenspace"
   ]
  },
  {
   "cell_type": "markdown",
   "id": "000543c0",
   "metadata": {},
   "source": [
    "### 2. Trip cumulative exposure with STRtree"
   ]
  },
  {
   "cell_type": "code",
   "execution_count": null,
   "id": "5e9c4e7e",
   "metadata": {},
   "outputs": [],
   "source": [
    "def geodesic_area(geom) -> float:\n",
    "    \"\"\"Calculate actual surface area in WGS84 coordinate system (unit: square meters)\"\"\"\n",
    "    if geom is None or geom.is_empty:\n",
    "        return 0.0\n",
    "    geod = Geod(ellps='WGS84')\n",
    "    if geom.geom_type == 'Polygon':\n",
    "        lons, lats = zip(*list(geom.exterior.coords))\n",
    "        area, _ = geod.polygon_area_perimeter(lons, lats)\n",
    "        return abs(area)\n",
    "    elif geom.geom_type == 'MultiPolygon':\n",
    "        return sum(geodesic_area(poly) for poly in geom.geoms)\n",
    "    else:\n",
    "        return 0.0"
   ]
  },
  {
   "cell_type": "code",
   "execution_count": null,
   "id": "96daed77",
   "metadata": {
    "vscode": {
     "languageId": "powershell"
    }
   },
   "outputs": [],
   "source": [
    "tree = STRtree([g for g, _ in proj_greenspace])\n",
    "results = []\n",
    "for trip in group_processes:\n",
    "    buf_proj = group_processes[trip]['buffer_proj']\n",
    "    to_wgs84 = group_processes[trip]['to_wgs84']\n",
    "\n",
    "    spatial_ix = tree.query(buf_proj)\n",
    "\n",
    "    area_count = 0\n",
    "    total_area = 0.0\n",
    "\n",
    "    for i in spatial_ix:\n",
    "        poly_proj, _ = proj_greenspace[i]\n",
    "        inter_proj = poly_proj.intersection(buf_proj)\n",
    "        if inter_proj.is_empty:\n",
    "            continue\n",
    "        inter_ll = transform(to_wgs84, inter_proj)\n",
    "        total_area += geodesic_area(inter_ll)\n",
    "        area_count += 1\n",
    "    results.append({'tirp': trip, 'area_count': area_count, 'total_area': total_area})\n",
    "\n",
    "results"
   ]
  },
  {
   "cell_type": "code",
   "execution_count": null,
   "id": "09cb5d9d",
   "metadata": {
    "vscode": {
     "languageId": "powershell"
    }
   },
   "outputs": [],
   "source": [
    "sum(item['area_count'] for item in results)"
   ]
  },
  {
   "cell_type": "code",
   "execution_count": null,
   "id": "fcb58dca",
   "metadata": {
    "vscode": {
     "languageId": "powershell"
    }
   },
   "outputs": [],
   "source": [
    "sum(item['total_area'] for item in results)"
   ]
  },
  {
   "cell_type": "markdown",
   "id": "b4c29ad8",
   "metadata": {},
   "source": [
    "### 3. Trajectory pointwise exposure"
   ]
  },
  {
   "cell_type": "code",
   "execution_count": null,
   "id": "f9c13dda",
   "metadata": {},
   "outputs": [],
   "source": [
    "proj_env = proj_greenspace\n",
    "tree = STRtree([g for g, _ in proj_greenspace])\n",
    "def pointwise_area_exposure(row):\n",
    "    to_aeqd = group_processes[row['Trip index']]['to_aeqd']\n",
    "    to_wgs84 = group_processes[row['Trip index']]['to_wgs84']\n",
    "    geom = row['column7']\n",
    "    \n",
    "    lon, lat = wkb.loads(bytes.fromhex(geom)).x, wkb.loads(bytes.fromhex(geom)).y\n",
    "    pt_proj = Point(to_aeqd(lon, lat))\n",
    "    buf_template = Point(0, 0).buffer(exposure_radius)\n",
    "    circ_proj = translate(buf_template, pt_proj.x, pt_proj.y)\n",
    "    idxs_pt = tree.query(circ_proj)\n",
    "    area_m2 = 0.0\n",
    "    for i in idxs_pt:\n",
    "        poly_proj, _ = proj_env[i]\n",
    "        inter_proj = poly_proj.intersection(circ_proj)\n",
    "        if inter_proj.is_empty:\n",
    "            continue\n",
    "        inter_ll = transform(to_wgs84, inter_proj)\n",
    "        area_m2 += geodesic_area(inter_ll)\n",
    "    return area_m2"
   ]
  },
  {
   "cell_type": "code",
   "execution_count": null,
   "id": "1ec88134",
   "metadata": {
    "vscode": {
     "languageId": "powershell"
    }
   },
   "outputs": [],
   "source": [
    "pointwise_cal_df = trip_df.copy()\n",
    "pointwise_cal_df['gs_area'] = pointwise_cal_df.apply(pointwise_area_exposure, axis=1)"
   ]
  },
  {
   "cell_type": "code",
   "execution_count": null,
   "id": "9d8a3b09",
   "metadata": {
    "vscode": {
     "languageId": "powershell"
    }
   },
   "outputs": [],
   "source": [
    "pointwise_cal_df.head()"
   ]
  },
  {
   "cell_type": "code",
   "execution_count": null,
   "id": "041461f4",
   "metadata": {
    "vscode": {
     "languageId": "powershell"
    }
   },
   "outputs": [],
   "source": [
    "grouped_result = pointwise_cal_df.groupby(trip_index_col)\n",
    "fig, ax = plt.subplots(figsize=(10, 6))\n",
    "\n",
    "for group_name, df in grouped_result:\n",
    "    ax.plot(df['time'], df['gs_area'], label=f'Trip {group_name}')\n",
    "\n",
    "ax.set_title(\"Greenspace exposure area timeseries (m²)\")\n",
    "ax.set_xlabel(\"Time\")\n",
    "ax.set_ylabel(\"Green area (m²)\")\n",
    "ax.legend(title=\"Trip\")\n",
    "\n",
    "plt.tight_layout()\n",
    "plt.show()"
   ]
  },
  {
   "cell_type": "markdown",
   "id": "b6d9f580",
   "metadata": {},
   "source": [
    "## Food retails exposure"
   ]
  },
  {
   "cell_type": "markdown",
   "id": "db17caa9",
   "metadata": {},
   "source": [
    "### 1. Process environment features\n",
    "Project point features to the same plane as the trajectory"
   ]
  },
  {
   "cell_type": "code",
   "execution_count": null,
   "id": "fa2776e2",
   "metadata": {
    "vscode": {
     "languageId": "powershell"
    }
   },
   "outputs": [],
   "source": [
    "food_hygiene_rating.head()"
   ]
  },
  {
   "cell_type": "code",
   "execution_count": null,
   "id": "bb03fd47",
   "metadata": {
    "vscode": {
     "languageId": "powershell"
    }
   },
   "outputs": [],
   "source": [
    "for trip in group_processes:\n",
    "    to_aeqd = group_processes[trip]['to_aeqd']\n",
    "    proj_food = []\n",
    "    for _, row in food_hygiene_rating.iterrows():\n",
    "        try:\n",
    "            lon, lat = float(row[\"longitude\"]), float(row[\"latitude\"])\n",
    "            proj_food.append((Point(to_aeqd(lon, lat)), row.get(\"id\", f\"{lon},{lat}\")))\n",
    "        except Exception:\n",
    "            continue\n",
    "    group_processes[trip]['proj_food'] = proj_food"
   ]
  },
  {
   "cell_type": "markdown",
   "id": "5b7ef570",
   "metadata": {},
   "source": [
    "### 2. STRtree + cumulative exposure\n",
    "Calculate food retails exposure of the trajectory"
   ]
  },
  {
   "cell_type": "code",
   "execution_count": null,
   "id": "1a965e81",
   "metadata": {
    "vscode": {
     "languageId": "powershell"
    }
   },
   "outputs": [],
   "source": [
    "results = []\n",
    "tree = STRtree([g for g, _ in proj_food])\n",
    "\n",
    "for trip in group_processes:\n",
    "    buf_proj = group_processes[trip]['buffer_proj']\n",
    "    spatial_ix = tree.query(buf_proj)\n",
    "\n",
    "    point_count = 0\n",
    "\n",
    "    visited = set()\n",
    "    for i in spatial_ix:\n",
    "        pt_proj, uid = proj_food[i]\n",
    "        if buf_proj.intersects(pt_proj):\n",
    "            visited.add(uid)\n",
    "    results.append({'tirp': trip, 'point_count': len(visited)})"
   ]
  },
  {
   "cell_type": "code",
   "execution_count": null,
   "id": "2cf0b7ba",
   "metadata": {
    "vscode": {
     "languageId": "powershell"
    }
   },
   "outputs": [],
   "source": [
    "print(f'Food retails exposure count {results}')"
   ]
  },
  {
   "cell_type": "markdown",
   "id": "6000d25b",
   "metadata": {},
   "source": [
    "### 3. Trajectory pointwise exposure \n",
    "Calculate food retails exposure at individual trajectory points"
   ]
  },
  {
   "cell_type": "code",
   "execution_count": null,
   "id": "0495af7c",
   "metadata": {},
   "outputs": [],
   "source": [
    "proj_env = proj_food\n",
    "tree = STRtree([g for g, _ in proj_food])\n",
    "def pointwise_point_exposure(row):\n",
    "    geom = row['column7']\n",
    "    to_aeqd = group_processes[row['Trip index']]['to_aeqd']\n",
    "    \n",
    "    lon, lat = wkb.loads(bytes.fromhex(geom)).x, wkb.loads(bytes.fromhex(geom)).y\n",
    "    pt_proj = Point(to_aeqd(lon, lat))\n",
    "    idxs_pt = tree.query(pt_proj.buffer(exposure_radius))\n",
    "    cnt = sum(\n",
    "        1 for i in idxs_pt\n",
    "        if pt_proj.distance(proj_env[i][0]) <= exposure_radius\n",
    "    )\n",
    "    return cnt"
   ]
  },
  {
   "cell_type": "code",
   "execution_count": null,
   "id": "c20902e3",
   "metadata": {},
   "outputs": [],
   "source": [
    "pointwise_cal_df = trip_df.copy().sort_values(by='time', ascending=True)\n",
    "pointwise_cal_df['food_count'] = pointwise_cal_df.apply(pointwise_point_exposure, axis=1)\n",
    "\n",
    "pointwise_cal_df.head()"
   ]
  },
  {
   "cell_type": "code",
   "execution_count": null,
   "id": "207240dc",
   "metadata": {},
   "outputs": [],
   "source": [
    "grouped_result = pointwise_cal_df.groupby(trip_index_col)\n",
    "fig, ax = plt.subplots(figsize=(10, 6))  # Single shared plot\n",
    "\n",
    "for group_name, df in grouped_result:\n",
    "    ax.plot(df['time'], df['food_count'], label=f'Trip {group_name}')\n",
    "\n",
    "ax.set_title(\"Food retails exposure count\")\n",
    "ax.set_xlabel(\"Time\")\n",
    "ax.set_ylabel(\"Food retails\")\n",
    "ax.legend(title=\"Trip\")\n",
    "\n",
    "plt.tight_layout()\n",
    "plt.show()"
   ]
  }
 ],
 "metadata": {
  "kernelspec": {
   "display_name": "Python 3 (ipykernel)",
   "language": "python",
   "name": "python3"
  },
  "language_info": {
   "codemirror_mode": {
    "name": "ipython",
    "version": 3
   },
   "file_extension": ".py",
   "mimetype": "text/x-python",
   "name": "python",
   "nbconvert_exporter": "python",
   "pygments_lexer": "ipython3",
   "version": "3.11.6"
  }
 },
 "nbformat": 4,
 "nbformat_minor": 5
}
