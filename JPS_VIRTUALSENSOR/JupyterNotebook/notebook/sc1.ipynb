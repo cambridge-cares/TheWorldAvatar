{
 "cells": [
  {
   "cell_type": "code",
   "execution_count": 1,
   "metadata": {},
   "outputs": [
    {
     "data": {
      "application/vnd.jupyter.widget-view+json": {
       "model_id": "3b49b189427e45e4ac0179cac3fabe44",
       "version_major": 2,
       "version_minor": 0
      },
      "text/plain": [
       "Textarea(value='', description='Text:', placeholder='Type something')"
      ]
     },
     "metadata": {},
     "output_type": "display_data"
    },
    {
     "data": {
      "application/vnd.jupyter.widget-view+json": {
       "model_id": "173ea7a652d744ef9ca3712a61d6563d",
       "version_major": 2,
       "version_minor": 0
      },
      "text/plain": [
       "Button(button_style='success', description='Submit', icon='check', style=ButtonStyle(), tooltip='Submit')"
      ]
     },
     "metadata": {},
     "output_type": "display_data"
    }
   ],
   "source": [
    "## imports and fixed parameters\n",
    "\n",
    "import ipywidgets as widgets\n",
    "from IPython.display import display, IFrame\n",
    "from dome_connector import Connector\n",
    "from cmcl_jobsender import JobSender\n",
    "\n",
    "DOME_URL = 'https://cmcl.dome40.io/'  # DOME platform URL\n",
    "API_KEY = \"123456\"  # hard-coded for now\n",
    "IFRAME_URL = 'http://192.168.1.171:4242/visualisation'\n",
    "CMCL_URL = 'http://192.168.1.171:4242/'\n"
   ]
  },
  {
   "cell_type": "code",
   "execution_count": null,
   "metadata": {},
   "outputs": [],
   "source": [
    "# IFrame of visualisation\n",
    "\n",
    "# Create an Output widget to capture the IFrame\n",
    "vis = widgets.Output(height='800px')\n",
    "\n",
    "# Define a function to render the IFrame inside the Output widget\n",
    "@vis.capture()\n",
    "def render_iframe():\n",
    "    display(IFrame(src=IFRAME_URL, width='100%', height='800px'))\n",
    "\n",
    "# Call the function to render the IFrame\n",
    "render_iframe()"
   ]
  },
  {
   "cell_type": "code",
   "execution_count": null,
   "metadata": {},
   "outputs": [],
   "source": [
    "# search DOME for emission data - backend\n",
    "\n",
    "# create connectors\n",
    "\n",
    "emission_connector = Connector(DOME_URL,API_KEY,\"CMCL\")\n",
    "\n",
    "def parse_emission_data(json_emission):\n",
    "    dict_emission = {}\n",
    "    metadata = json_emission['metadata']\n",
    "    data = json_emission['data']\n",
    "    for i in range(len(metadata)):\n",
    "        list_output = (split_string(\n",
    "            metadata[i]['Title'], ['emission in', 'at']))\n",
    "        scope = data[i]['Scope']\n",
    "        label = f\"{list_output[1]}: {scope}\"\n",
    "        timestamp = list_output[2]\n",
    "        if label not in dict_emission:\n",
    "            dict_emission[label] = [timestamp]\n",
    "        else:\n",
    "            if timestamp not in dict_emission[label]:\n",
    "                dict_emission[label].append(timestamp)\n",
    "    return dict_emission\n",
    "\n",
    "\n",
    "def split_string(raw_string, list_delimiter):\n",
    "    list_output = []\n",
    "    for delimiter in list_delimiter:\n",
    "        output = raw_string.split(delimiter)[0].strip()\n",
    "        list_output.append(output)\n",
    "        raw_string = raw_string.replace(output, \"\").replace(delimiter, \"\")\n",
    "    list_output.append(raw_string.strip())\n",
    "    return list_output\n",
    "\n",
    "def get_emission(search_string):\n",
    "    search_string = search_string or \"ship\"\n",
    "    return parse_emission_data(emission_connector.get_data(search_string))"
   ]
  },
  {
   "cell_type": "code",
   "execution_count": null,
   "metadata": {},
   "outputs": [],
   "source": [
    "# search DOME for emission data - frontend\n",
    "\n",
    "# Create a text area widget\n",
    "text_area_dome_emission = widgets.Text(\n",
    "    placeholder=\"\"\"Name of a location\"\"\",\n",
    "    description=\"\"\"Search for ship emission simulation data:\"\"\",\n",
    "    layout=widgets.Layout(flex_flow='column'),\n",
    "    style={'description_width': 'initial'},\n",
    "    disabled=False\n",
    ")\n",
    "\n",
    "# Create a button widget\n",
    "button_dome_emission = widgets.Button(\n",
    "    description='Submit',\n",
    "    button_style='success',\n",
    "    tooltip='Submit',\n",
    "    icon='check'\n",
    ")\n",
    "\n",
    "def print_with_indent(obj, indent=0):\n",
    "    if isinstance(obj, dict):\n",
    "        for key, value in obj.items():\n",
    "            print('  ' * indent + str(key) + ':')\n",
    "            print_with_indent(value, indent + 1)\n",
    "    elif isinstance(obj, list):\n",
    "        for index, item in enumerate(obj):\n",
    "            print('  ' * indent + f\"[{index}]:\")\n",
    "            print_with_indent(item, indent + 1)\n",
    "    else:\n",
    "        print('  ' * indent + str(obj))\n",
    "\n",
    "# Define a function to handle the button click event\n",
    "def click_button_dome_emission(b):\n",
    "\n",
    "    with output_dome_emission:\n",
    "        output_dome_emission.clear_output()\n",
    "        # Print the text area content\n",
    "        print_with_indent(get_emission(text_area_dome_emission.value))\n",
    "\n",
    "\n",
    "output_dome_emission = widgets.Output(layout=widgets.Layout(max_height='100px'))\n",
    "\n",
    "# Set the event handler for the button click event\n",
    "button_dome_emission.on_click(click_button_dome_emission)"
   ]
  },
  {
   "cell_type": "code",
   "execution_count": null,
   "metadata": {},
   "outputs": [],
   "source": [
    "# submit job to CMCL server\n",
    "\n",
    "old_job_sender = JobSender(CMCL_URL)\n",
    "\n",
    "# Create a text area widget\n",
    "text_area_old_job_label = widgets.Text(\n",
    "    placeholder=\"\"\"Name of location.\"\"\",\n",
    "    description=\"\"\"Name of location.\"\"\",\n",
    "    layout=widgets.Layout(flex_flow='row'),\n",
    "    style={'description_width': 'initial'},\n",
    "    disabled=False\n",
    ")\n",
    "\n",
    "text_area_old_job_step = widgets.Text(\n",
    "    placeholder=\"\"\"Number of steps.\"\"\",\n",
    "    description=\"\"\"Number of steps.\"\"\",\n",
    "    layout=widgets.Layout(flex_flow='row'),\n",
    "    style={'description_width': 'initial'},\n",
    "    disabled=False\n",
    ")\n",
    "\n",
    "# Create a button widget\n",
    "button_old_job = widgets.Button(\n",
    "    description='Submit',\n",
    "    button_style='success',\n",
    "    tooltip='Submit',\n",
    "    icon='check'\n",
    ")\n",
    "\n",
    "# Define a function to handle the button click event\n",
    "def click_button_old_job(b):\n",
    "\n",
    "    with output_old_job:\n",
    "        output_old_job.clear_output()\n",
    "        label = text_area_old_job_label.value\n",
    "        num_step = int(text_area_old_job_step.value)\n",
    "        \n",
    "        print_with_indent(old_job_sender.run_simulation(label,None,num_step))\n",
    "\n",
    "output_old_job = widgets.Output(layout=widgets.Layout(max_height='100px'))\n",
    "\n",
    "# Set the event handler for the button click event\n",
    "button_old_job.on_click(click_button_old_job)"
   ]
  },
  {
   "cell_type": "markdown",
   "metadata": {},
   "source": []
  },
  {
   "cell_type": "code",
   "execution_count": null,
   "metadata": {},
   "outputs": [],
   "source": [
    "# final-layout\n",
    "\n",
    "label_dome_emission = widgets.HTML(\n",
    "value='<p style=\"font-size:36px; font-weight:bold;text-align:center\">Search DOME for emission simulation data</p>'\n",
    ")\n",
    "\n",
    "label_old_job = widgets.HTML(\n",
    "value='<p style=\"font-size:36px; font-weight:bold;text-align:center\">Send update request to existing simulation</p>'\n",
    ")\n",
    "\n",
    "# Arrange widgets in each column using VBox\n",
    "vbox_dome_emission = widgets.VBox(\n",
    "    [label_dome_emission, text_area_dome_emission, button_dome_emission, output_dome_emission],\n",
    "    layout=widgets.Layout(width='50%', align_items='center'))\n",
    "vbox_old_job = widgets.VBox(\n",
    "    [label_old_job, text_area_old_job_label, text_area_old_job_step,\n",
    "        button_old_job, output_old_job],\n",
    "    layout=widgets.Layout(width='50%', align_items='center'))\n",
    "\n",
    "# Create a horizontal box to hold the widgets\n",
    "interactive = widgets.HBox(\n",
    "    [vbox_dome_emission, vbox_old_job], layout=widgets.Layout(width='100%'))\n",
    "\n",
    "\n",
    "\n",
    "table = widgets.VBox([vis, interactive], layout=widgets.Layout(\n",
    "    align_items='center'), width='100%')\n",
    "\n",
    "display(table)"
   ]
  }
 ],
 "metadata": {
  "kernelspec": {
   "display_name": "Python 3 (ipykernel)",
   "language": "python",
   "name": "python3"
  },
  "language_info": {
   "codemirror_mode": {
    "name": "ipython",
    "version": 3
   },
   "file_extension": ".py",
   "mimetype": "text/x-python",
   "name": "python",
   "nbconvert_exporter": "python",
   "pygments_lexer": "ipython3",
   "version": "3.11.6"
  }
 },
 "nbformat": 4,
 "nbformat_minor": 4
}
