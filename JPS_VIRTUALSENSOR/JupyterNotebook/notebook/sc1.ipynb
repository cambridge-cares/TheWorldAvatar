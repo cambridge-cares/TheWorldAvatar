{
 "cells": [
  {
   "cell_type": "code",
   "execution_count": 1,
   "metadata": {},
   "outputs": [
    {
     "data": {
      "application/vnd.jupyter.widget-view+json": {
       "model_id": "3b49b189427e45e4ac0179cac3fabe44",
       "version_major": 2,
       "version_minor": 0
      },
      "text/plain": [
       "Textarea(value='', description='Text:', placeholder='Type something')"
      ]
     },
     "metadata": {},
     "output_type": "display_data"
    },
    {
     "data": {
      "application/vnd.jupyter.widget-view+json": {
       "model_id": "173ea7a652d744ef9ca3712a61d6563d",
       "version_major": 2,
       "version_minor": 0
      },
      "text/plain": [
       "Button(button_style='success', description='Submit', icon='check', style=ButtonStyle(), tooltip='Submit')"
      ]
     },
     "metadata": {},
     "output_type": "display_data"
    }
   ],
   "source": [
    "## imports and fixed parameters\n",
    "\n",
    "import ipywidgets as widgets\n",
    "from IPython.display import display, IFrame\n",
    "import requests\n",
    "\n",
    "BASE_URL = 'https://cmcl.dome40.io/'  # DOME platform URL\n",
    "API_KEY = \"123456\"  # hard-coded for now\n",
    "IFRAME_URL = 'http://192.168.1.171:4242/visualisation'\n"
   ]
  },
  {
   "cell_type": "code",
   "execution_count": null,
   "metadata": {},
   "outputs": [],
   "source": [
    "## DOME-related functions\n",
    "\n",
    "def get_data_from_dome(provider_id, search_string):\n",
    "\n",
    "    res_conn_query = requests.get(\n",
    "        f\"{BASE_URL}api/discover/results/{provider_id}\",\n",
    "        headers={'apikey': API_KEY},\n",
    "        params={'search_string': search_string},\n",
    "        timeout=10,\n",
    "    )\n",
    "\n",
    "    try:\n",
    "        return res_conn_query.json()\n",
    "    except:\n",
    "        return res_conn_query.content\n",
    "\n",
    "\n",
    "def get_emission_data(search_string):\n",
    "\n",
    "    search_string = search_string or \"ship\"\n",
    "\n",
    "    return get_data_from_dome(\"CMCL\", search_string)\n",
    "\n",
    "\n",
    "def parse_emission_data(json_emission):\n",
    "    dict_emission = {}\n",
    "    metadata = json_emission['metadata']\n",
    "    data = json_emission['data']\n",
    "    for i in range(len(metadata)):\n",
    "        list_output = (split_string(\n",
    "            metadata[i]['Title'], ['emission in', 'at']))\n",
    "        scope = data[i]['Scope']\n",
    "        label = f\"{list_output[1]}: {scope}\"\n",
    "        timestamp = list_output[2]\n",
    "        if label not in dict_emission:\n",
    "            dict_emission[label] = [timestamp]\n",
    "        else:\n",
    "            if timestamp not in dict_emission[label]:\n",
    "                dict_emission[label].append(timestamp)\n",
    "    return dict_emission\n",
    "\n",
    "\n",
    "def split_string(raw_string, list_delimiter):\n",
    "    list_output = []\n",
    "    for delimiter in list_delimiter:\n",
    "        output = raw_string.split(delimiter)[0].strip()\n",
    "        list_output.append(output)\n",
    "        raw_string = raw_string.replace(output, \"\").replace(delimiter, \"\")\n",
    "    list_output.append(raw_string.strip())\n",
    "    return list_output"
   ]
  },
  {
   "cell_type": "code",
   "execution_count": null,
   "metadata": {},
   "outputs": [],
   "source": [
    "## visualisation of results\n",
    "\n",
    "# Create an Output widget to capture the IFrame\n",
    "vis = widgets.Output(height='800px')\n",
    "\n",
    "# Define a function to render the IFrame inside the Output widget\n",
    "@vis.capture()\n",
    "def render_iframe():\n",
    "    display(IFrame(src=IFRAME_URL, width='100%', height='800px'))\n",
    "\n",
    "# Call the function to render the IFrame\n",
    "render_iframe()"
   ]
  },
  {
   "cell_type": "code",
   "execution_count": null,
   "metadata": {},
   "outputs": [],
   "source": [
    "# Interactive frontend\n",
    "\n",
    "# Create a text area widget\n",
    "text_area = widgets.Textarea(\n",
    "    placeholder=\"\"\"Type name of a location to search for specific simulation.\n",
    "    Leave blank and all available simulations will be returned.\"\"\",\n",
    "    description=\"\"\"Search for ship emission simulation data:\"\"\",\n",
    "    layout=widgets.Layout(flex_flow='column',min_height='150px'),\n",
    "    style={'description_width': 'initial'},\n",
    "    disabled=False\n",
    ")\n",
    "\n",
    "# Create a button widget\n",
    "submit_button = widgets.Button(\n",
    "    description='Submit',\n",
    "    button_style='success',\n",
    "    tooltip='Submit',\n",
    "    icon='check'\n",
    ")\n",
    "\n",
    "def print_with_indent(obj, indent=0):\n",
    "    if isinstance(obj, dict):\n",
    "        for key, value in obj.items():\n",
    "            print('  ' * indent + str(key) + ':')\n",
    "            print_with_indent(value, indent + 1)\n",
    "    elif isinstance(obj, list):\n",
    "        for index, item in enumerate(obj):\n",
    "            print('  ' * indent + f\"[{index}]:\")\n",
    "            print_with_indent(item, indent + 1)\n",
    "    else:\n",
    "        print('  ' * indent + str(obj))\n",
    "\n",
    "# Define a function to handle the button click event\n",
    "def on_button_clicked(b):\n",
    "\n",
    "    with output_box:\n",
    "        output_box.clear_output()\n",
    "        # Print the text area content\n",
    "        print_with_indent(parse_emission_data(get_emission_data(text_area.value)))\n",
    "\n",
    "\n",
    "output_box = widgets.Output()\n",
    "\n",
    "# Set the event handler for the button click event\n",
    "submit_button.on_click(on_button_clicked)\n",
    "\n",
    "# Arrange widgets in each column using VBox\n",
    "column1 = widgets.VBox([text_area, submit_button, output_box],layout=widgets.Layout(width='50%',align_items='center'))\n",
    "column2 = widgets.VBox([widgets.Label('Column 2')],layout=widgets.Layout(width='50%',align_items='center'))\n",
    "\n",
    "# Create a horizontal box to hold the widgets\n",
    "interactive = widgets.HBox([column1,column2],layout=widgets.Layout(width='100%'))"
   ]
  },
  {
   "cell_type": "code",
   "execution_count": null,
   "metadata": {},
   "outputs": [],
   "source": [
    "# final-layout\n",
    "table = widgets.VBox([vis,interactive],layout=widgets.Layout(align_items='center'),width='100%')\n",
    "\n",
    "display(table)"
   ]
  },
  {
   "cell_type": "code",
   "execution_count": null,
   "metadata": {},
   "outputs": [],
   "source": []
  }
 ],
 "metadata": {
  "kernelspec": {
   "display_name": "Python 3 (ipykernel)",
   "language": "python",
   "name": "python3"
  },
  "language_info": {
   "codemirror_mode": {
    "name": "ipython",
    "version": 3
   },
   "file_extension": ".py",
   "mimetype": "text/x-python",
   "name": "python",
   "nbconvert_exporter": "python",
   "pygments_lexer": "ipython3",
   "version": "3.11.6"
  }
 },
 "nbformat": 4,
 "nbformat_minor": 4
}
