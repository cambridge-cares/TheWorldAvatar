{
 "cells": [
  {
   "cell_type": "code",
   "execution_count": 1,
   "metadata": {},
   "outputs": [
    {
     "name": "stdout",
     "output_type": "stream",
     "text": [
      "Info: Initializing JPSGateway with resName=JpsBaseLib, jarPath=None\n"
     ]
    }
   ],
   "source": [
    "# Import packages and initiate client\n",
    "from twa.kg_operations import PySparqlClient\n",
    "import pandas as pd\n",
    "import queryMOPs\n",
    "import credentials\n",
    "\n",
    "sparql_client = PySparqlClient(credentials.SPARQL_ENDPOINT, 'restricted', fs_url=credentials.FILE_SERVER, fs_user=credentials.FS_USER, fs_pwd=credentials.FS_PW)"
   ]
  },
  {
   "cell_type": "code",
   "execution_count": 8,
   "metadata": {},
   "outputs": [
    {
     "data": {
      "text/html": [
       "<div>\n",
       "<style scoped>\n",
       "    .dataframe tbody tr th:only-of-type {\n",
       "        vertical-align: middle;\n",
       "    }\n",
       "\n",
       "    .dataframe tbody tr th {\n",
       "        vertical-align: top;\n",
       "    }\n",
       "\n",
       "    .dataframe thead th {\n",
       "        text-align: right;\n",
       "    }\n",
       "</style>\n",
       "<table border=\"1\" class=\"dataframe\">\n",
       "  <thead>\n",
       "    <tr style=\"text-align: right;\">\n",
       "      <th></th>\n",
       "      <th>MOP</th>\n",
       "      <th>shape</th>\n",
       "      <th>charge</th>\n",
       "      <th>XYZ file</th>\n",
       "    </tr>\n",
       "  </thead>\n",
       "  <tbody>\n",
       "    <tr>\n",
       "      <th>0</th>\n",
       "      <td>[Zr3O(OH)3(C5H5)3]2[SO2(C6H4)2(CO2)2]3</td>\n",
       "      <td>tbp</td>\n",
       "      <td>-4.0 elementary charge</td>\n",
       "      <td>1576897.xyz</td>\n",
       "    </tr>\n",
       "    <tr>\n",
       "      <th>1</th>\n",
       "      <td>[Zr3O(OH)3(C5H5)3]2[CH2(C6H4)2(CO2)2]3</td>\n",
       "      <td>tbp</td>\n",
       "      <td>2.0 elementary charge</td>\n",
       "      <td>1576898.xyz</td>\n",
       "    </tr>\n",
       "    <tr>\n",
       "      <th>2</th>\n",
       "      <td>[Zr3O(OH)3(C5H5)3]2[C2H4O2(C6H3SO3)2(CO2)2]3</td>\n",
       "      <td>tbp</td>\n",
       "      <td>-4.0 elementary charge</td>\n",
       "      <td>1575660.xyz</td>\n",
       "    </tr>\n",
       "    <tr>\n",
       "      <th>3</th>\n",
       "      <td>[Zr3O(OH)3(C5H5)3]8[(C5H5)(CH3)3(CO2)2]12</td>\n",
       "      <td>cub</td>\n",
       "      <td>8.0 elementary charge</td>\n",
       "      <td>1528352.xyz</td>\n",
       "    </tr>\n",
       "  </tbody>\n",
       "</table>\n",
       "</div>"
      ],
      "text/plain": [
       "                                            MOP shape                  charge  \\\n",
       "0        [Zr3O(OH)3(C5H5)3]2[SO2(C6H4)2(CO2)2]3   tbp  -4.0 elementary charge   \n",
       "1        [Zr3O(OH)3(C5H5)3]2[CH2(C6H4)2(CO2)2]3   tbp   2.0 elementary charge   \n",
       "2  [Zr3O(OH)3(C5H5)3]2[C2H4O2(C6H3SO3)2(CO2)2]3   tbp  -4.0 elementary charge   \n",
       "3     [Zr3O(OH)3(C5H5)3]8[(C5H5)(CH3)3(CO2)2]12   cub   8.0 elementary charge   \n",
       "\n",
       "      XYZ file  \n",
       "0  1576897.xyz  \n",
       "1  1576898.xyz  \n",
       "2  1575660.xyz  \n",
       "3  1528352.xyz  "
      ]
     },
     "execution_count": 8,
     "metadata": {},
     "output_type": "execute_result"
    }
   ],
   "source": [
    "# Query MOPs from KG based on criteria\n",
    "selected_MOPs = sparql_client.perform_query(queryMOPs.construct(known=True,cbu='Zr3O(OH)3(C5H5)3',gbu='2-bent'))\n",
    "shapes =[]\n",
    "charges = []\n",
    "files = []\n",
    "names = []\n",
    "for selected_MOP in selected_MOPs:\n",
    "    names.append(selected_MOP['MOPFormula'])\n",
    "    charges.append(selected_MOP['chargeStr'])\n",
    "    shapes.append(selected_MOP['shapeSymb'])\n",
    "    files.append(selected_MOP['geoFile'].split('/')[-1])\n",
    "\n",
    "output = pd.DataFrame(\n",
    "    {'MOP': names,\n",
    "     'shape': shapes,\n",
    "     'charge': charges,\n",
    "     'XYZ file': files\n",
    "     }\n",
    ")\n",
    "\n",
    "output"
   ]
  },
  {
   "cell_type": "code",
   "execution_count": 5,
   "metadata": {},
   "outputs": [
    {
     "name": "stdout",
     "output_type": "stream",
     "text": [
      "Done downloading 12 XYZ files.\n"
     ]
    }
   ],
   "source": [
    "#Download geometry files\n",
    "for file in files:\n",
    "    sparql_client.download_file(credentials.FILE_SERVER + file, credentials.GEO_FOLDER + file)\n",
    "\n",
    "print('Done downloading ' + str(len(files)) + ' XYZ files.')"
   ]
  }
 ],
 "metadata": {
  "kernelspec": {
   "display_name": "Python 3",
   "language": "python",
   "name": "python3"
  },
  "language_info": {
   "codemirror_mode": {
    "name": "ipython",
    "version": 3
   },
   "file_extension": ".py",
   "mimetype": "text/x-python",
   "name": "python",
   "nbconvert_exporter": "python",
   "pygments_lexer": "ipython3",
   "version": "3.12.9"
  }
 },
 "nbformat": 4,
 "nbformat_minor": 2
}
