{
 "cells": [
  {
   "cell_type": "markdown",
   "metadata": {},
   "source": [
    "# twa tutorial\n",
    "\n",
    "In this tutorial, we demonstrate how `twa` can be used for basic applications in chemistry.\n",
    "\n",
    "We will go through the process of defining an ontology, creating and managing instances of lab objects in Python, and performing SPARQL queries using a triple store. \n",
    "\n",
    "We will use Blazegraph as our triple store and demonstrate how to interact with it through a Python-based SPARQL client. \n",
    "\n",
    "Let's get started!"
   ]
  },
  {
   "cell_type": "markdown",
   "metadata": {},
   "source": [
    "## Install necessary packages\n",
    "Run this cell to install the necessary Python packages if they are not already installed."
   ]
  },
  {
   "cell_type": "code",
   "execution_count": 1,
   "metadata": {},
   "outputs": [
    {
     "name": "stdout",
     "output_type": "stream",
     "text": [
      "Requirement already satisfied: twa in /home/jb2197/twa/TheWorldAvatar/JPS_BASE_LIB/python_wrapper (0.0.3)\n",
      "Requirement already satisfied: docker in /home/jb2197/anaconda3/envs/twa/lib/python3.10/site-packages (6.1.3)\n",
      "Requirement already satisfied: py4j>=0.10.9.1 in /home/jb2197/anaconda3/envs/twa/lib/python3.10/site-packages (from twa) (0.10.9.1)\n",
      "Requirement already satisfied: docopt in /home/jb2197/anaconda3/envs/twa/lib/python3.10/site-packages (from twa) (0.6.2)\n",
      "Requirement already satisfied: concurrent_log_handler in /home/jb2197/anaconda3/envs/twa/lib/python3.10/site-packages (from twa) (0.9.25)\n",
      "Requirement already satisfied: pydantic in /home/jb2197/anaconda3/envs/twa/lib/python3.10/site-packages (from twa) (2.8.2)\n",
      "Requirement already satisfied: rdflib==7.0.0 in /home/jb2197/anaconda3/envs/twa/lib/python3.10/site-packages (from twa) (7.0.0)\n",
      "Requirement already satisfied: requests in /home/jb2197/anaconda3/envs/twa/lib/python3.10/site-packages (from twa) (2.31.0)\n",
      "Requirement already satisfied: flask in /home/jb2197/anaconda3/envs/twa/lib/python3.10/site-packages (from twa) (3.0.3)\n",
      "Requirement already satisfied: gunicorn==20.0.4 in /home/jb2197/anaconda3/envs/twa/lib/python3.10/site-packages (from twa) (20.0.4)\n",
      "Requirement already satisfied: Flask-APScheduler in /home/jb2197/anaconda3/envs/twa/lib/python3.10/site-packages (from twa) (1.12.4)\n",
      "Requirement already satisfied: python-dotenv in /home/jb2197/anaconda3/envs/twa/lib/python3.10/site-packages (from twa) (0.21.1)\n",
      "Requirement already satisfied: yagmail in /home/jb2197/anaconda3/envs/twa/lib/python3.10/site-packages (from twa) (0.15.293)\n",
      "Requirement already satisfied: Werkzeug in /home/jb2197/anaconda3/envs/twa/lib/python3.10/site-packages (from twa) (3.0.3)\n",
      "Requirement already satisfied: setuptools>=3.0 in /home/jb2197/anaconda3/envs/twa/lib/python3.10/site-packages (from gunicorn==20.0.4->twa) (68.2.2)\n",
      "Requirement already satisfied: isodate<0.7.0,>=0.6.0 in /home/jb2197/anaconda3/envs/twa/lib/python3.10/site-packages (from rdflib==7.0.0->twa) (0.6.1)\n",
      "Requirement already satisfied: pyparsing<4,>=2.1.0 in /home/jb2197/anaconda3/envs/twa/lib/python3.10/site-packages (from rdflib==7.0.0->twa) (3.0.9)\n",
      "Requirement already satisfied: packaging>=14.0 in /home/jb2197/anaconda3/envs/twa/lib/python3.10/site-packages (from docker) (21.3)\n",
      "Requirement already satisfied: urllib3>=1.26.0 in /home/jb2197/anaconda3/envs/twa/lib/python3.10/site-packages (from docker) (1.26.18)\n",
      "Requirement already satisfied: websocket-client>=0.32.0 in /home/jb2197/anaconda3/envs/twa/lib/python3.10/site-packages (from docker) (0.59.0)\n",
      "Requirement already satisfied: charset-normalizer<4,>=2 in /home/jb2197/anaconda3/envs/twa/lib/python3.10/site-packages (from requests->twa) (3.3.2)\n",
      "Requirement already satisfied: idna<4,>=2.5 in /home/jb2197/anaconda3/envs/twa/lib/python3.10/site-packages (from requests->twa) (3.6)\n",
      "Requirement already satisfied: certifi>=2017.4.17 in /home/jb2197/anaconda3/envs/twa/lib/python3.10/site-packages (from requests->twa) (2024.2.2)\n",
      "Requirement already satisfied: six in /home/jb2197/anaconda3/envs/twa/lib/python3.10/site-packages (from websocket-client>=0.32.0->docker) (1.16.0)\n",
      "Requirement already satisfied: portalocker>=1.6.0 in /home/jb2197/anaconda3/envs/twa/lib/python3.10/site-packages (from concurrent_log_handler->twa) (2.8.2)\n",
      "Requirement already satisfied: Jinja2>=3.1.2 in /home/jb2197/anaconda3/envs/twa/lib/python3.10/site-packages (from flask->twa) (3.1.3)\n",
      "Requirement already satisfied: itsdangerous>=2.1.2 in /home/jb2197/anaconda3/envs/twa/lib/python3.10/site-packages (from flask->twa) (2.2.0)\n",
      "Requirement already satisfied: click>=8.1.3 in /home/jb2197/anaconda3/envs/twa/lib/python3.10/site-packages (from flask->twa) (8.1.7)\n",
      "Requirement already satisfied: blinker>=1.6.2 in /home/jb2197/anaconda3/envs/twa/lib/python3.10/site-packages (from flask->twa) (1.8.2)\n",
      "Requirement already satisfied: MarkupSafe>=2.1.1 in /home/jb2197/anaconda3/envs/twa/lib/python3.10/site-packages (from Werkzeug->twa) (2.1.5)\n",
      "Requirement already satisfied: apscheduler<4.0.0,>=3.2.0 in /home/jb2197/anaconda3/envs/twa/lib/python3.10/site-packages (from Flask-APScheduler->twa) (3.10.4)\n",
      "Requirement already satisfied: python-dateutil>=2.4.2 in /home/jb2197/anaconda3/envs/twa/lib/python3.10/site-packages (from Flask-APScheduler->twa) (2.8.2)\n",
      "Requirement already satisfied: annotated-types>=0.4.0 in /home/jb2197/anaconda3/envs/twa/lib/python3.10/site-packages (from pydantic->twa) (0.6.0)\n",
      "Requirement already satisfied: pydantic-core==2.20.1 in /home/jb2197/anaconda3/envs/twa/lib/python3.10/site-packages (from pydantic->twa) (2.20.1)\n",
      "Requirement already satisfied: typing-extensions>=4.6.1 in /home/jb2197/anaconda3/envs/twa/lib/python3.10/site-packages (from pydantic->twa) (4.10.0)\n",
      "Requirement already satisfied: premailer in /home/jb2197/anaconda3/envs/twa/lib/python3.10/site-packages (from yagmail->twa) (3.10.0)\n",
      "Requirement already satisfied: pytz in /home/jb2197/anaconda3/envs/twa/lib/python3.10/site-packages (from apscheduler<4.0.0,>=3.2.0->Flask-APScheduler->twa) (2024.1)\n",
      "Requirement already satisfied: tzlocal!=3.*,>=2.0 in /home/jb2197/anaconda3/envs/twa/lib/python3.10/site-packages (from apscheduler<4.0.0,>=3.2.0->Flask-APScheduler->twa) (5.2)\n",
      "Requirement already satisfied: lxml in /home/jb2197/anaconda3/envs/twa/lib/python3.10/site-packages (from premailer->yagmail->twa) (5.2.1)\n",
      "Requirement already satisfied: cssselect in /home/jb2197/anaconda3/envs/twa/lib/python3.10/site-packages (from premailer->yagmail->twa) (1.2.0)\n",
      "Requirement already satisfied: cssutils in /home/jb2197/anaconda3/envs/twa/lib/python3.10/site-packages (from premailer->yagmail->twa) (2.10.2)\n",
      "Requirement already satisfied: cachetools in /home/jb2197/anaconda3/envs/twa/lib/python3.10/site-packages (from premailer->yagmail->twa) (5.3.3)\n"
     ]
    }
   ],
   "source": [
    "!pip install twa docker"
   ]
  },
  {
   "cell_type": "markdown",
   "metadata": {},
   "source": [
    "## Importing Libraries\n",
    "\n",
    "Import necessary modules. Note that for a Python script, it is important to include `from __future__ import annotations` at the beginning of the file.\n"
   ]
  },
  {
   "cell_type": "code",
   "execution_count": 2,
   "metadata": {},
   "outputs": [
    {
     "name": "stdout",
     "output_type": "stream",
     "text": [
      "Info: Initializing JPSGateway with resName=JpsBaseLib, jarPath=None\n"
     ]
    }
   ],
   "source": [
    "from __future__ import annotations\n",
    "from twa.data_model.base_ontology import BaseOntology, BaseClass, ObjectProperty, DatatypeProperty, TransitiveProperty\n",
    "from twa.kg_operations import PySparqlClient\n",
    "\n",
    "from typing import Dict, Optional\n",
    "import time"
   ]
  },
  {
   "cell_type": "markdown",
   "metadata": {},
   "source": [
    "## Step 1: Define the Ontology\n",
    "\n",
    "### Create a DummyLabOntology class\n",
    "This class represents the ontology for our lab objects.\n"
   ]
  },
  {
   "cell_type": "code",
   "execution_count": 3,
   "metadata": {},
   "outputs": [],
   "source": [
    "class DummyLabOntology(BaseOntology):\n",
    "    base_url = 'https://dummy.example/kg/'\n",
    "    namespace = 'dummylab'\n",
    "    owl_versionInfo = '0.0.1'\n",
    "    rdfs_comment = 'A dummy ontology for a lab'"
   ]
  },
  {
   "cell_type": "markdown",
   "metadata": {},
   "source": [
    "### Define Classes and Properties\n",
    "\n",
    "Define various classes and properties for lab objects, including containers, solutions, and handlers."
   ]
  },
  {
   "cell_type": "code",
   "execution_count": 4,
   "metadata": {},
   "outputs": [],
   "source": [
    "class LabObject(BaseClass):\n",
    "    rdfs_isDefinedBy = DummyLabOntology\n",
    "    consistsOf: Optional[ConsistsOf[LabObject]] = set()\n",
    "\n",
    "class ChemicalContainer(LabObject):\n",
    "    rdfs_isDefinedBy = DummyLabOntology\n",
    "    locationID: Optional[LocationID[int]] = None\n",
    "    isFilledWith: Optional[IsFilledWith[ChemicalSolution]] = None\n",
    "\n",
    "class Vial(ChemicalContainer):\n",
    "    roundBottom: RoundBottom[bool]\n",
    "\n",
    "class ChemicalSolution(BaseClass):\n",
    "    rdfs_isDefinedBy = DummyLabOntology\n",
    "    preparationTimestamp: PreparationTimestamp[int]\n",
    "    name: Name[str]\n",
    "\n",
    "class GlassObject(BaseClass):\n",
    "    rdfs_isDefinedBy = DummyLabOntology\n",
    "    transparency: Transparency[bool]\n",
    "\n",
    "class LiquidHandlerVial(Vial, GlassObject):\n",
    "    pass\n",
    "\n",
    "class LiquidHandlerRack(LabObject):\n",
    "    rdfs_isDefinedBy = DummyLabOntology\n",
    "    maximumSlots: MaximumSlots[int]\n",
    "\n",
    "    @property\n",
    "    def locate_all_vials(self) -> Dict[str, LiquidHandlerVial]:\n",
    "        return {next(iter(vial.locationID)):vial for vial in self.consistsOf if isinstance(vial, LiquidHandlerVial)}\n",
    "\n",
    "    @property\n",
    "    def max_slots(self) -> int:\n",
    "        return list(self.maximumSlots)[0]\n",
    "\n",
    "    @property\n",
    "    def empty_slots(self) -> list[int]:\n",
    "        return [i for i in range(self.max_slots) if i not in self.locate_all_vials]\n",
    "\n",
    "    def init_vial(self, vial: LiquidHandlerVial):\n",
    "        if bool(vial.locationID):\n",
    "            raise ValueError(f'A locationID {vial.locationID} is already assigned to vial {vial} before initialising in rack {self.instance_iri}')\n",
    "        vial.locationID = self.empty_slots[0]\n",
    "        self.consistsOf.add(vial)\n",
    "\n",
    "class LiquidHandler(LabObject):\n",
    "    rdfs_isDefinedBy = DummyLabOntology\n",
    "\n",
    "    def move_vial_to_rack(self, vial: LiquidHandlerVial, to_rack: LiquidHandlerRack, to_location: int = None):\n",
    "        if len(to_rack.locate_all_vials) == to_rack.max_slots:\n",
    "            raise ValueError(f'Rack {to_rack.instance_iri} is already full')\n",
    "        if bool(vial.locationID):\n",
    "            raise ValueError(f'A locationID {vial.locationID} is already assigned to vial {vial} before adding to rack {to_rack.instance_iri}')\n",
    "        if to_location is not None:\n",
    "            if to_location not in range(to_rack.max_slots):\n",
    "                raise ValueError(f'Location {to_location} is beyond the maximum slots of rack {to_rack.instance_iri}')\n",
    "            elif to_location not in to_rack.empty_slots:\n",
    "                raise ValueError(f'Location {to_location} is not empty, already occupied by {to_rack.locate_all_vials.get(to_location)}')\n",
    "            else:\n",
    "                vial.locationID = to_location\n",
    "        else:\n",
    "            vial.locationID = to_rack.empty_slots[0]\n",
    "        to_rack.consistsOf.add(vial)\n",
    "\n",
    "    def remove_vial_from_rack(self, vial: LiquidHandlerVial, from_rack: LiquidHandlerRack):\n",
    "        if vial not in from_rack.locate_all_vials.values():\n",
    "            raise ValueError(f'Vial {vial} not found at in rack {from_rack.instance_iri}')\n",
    "        from_rack.consistsOf.remove(vial)\n",
    "        vial.locationID = LocationID()\n",
    "\n",
    "    def move_vial_within_rack(self, from_location: int, to_location: int, rack: LiquidHandlerRack):\n",
    "        if from_location not in rack.locate_all_vials:\n",
    "            raise ValueError(f'No vial found at location {from_location} of rack {rack.instance_iri}')\n",
    "        vial = rack.locate_all_vials[from_location]\n",
    "        self.remove_vial_from_rack(vial, rack)\n",
    "        self.move_vial_to_rack(vial, rack, to_location)\n",
    "\n",
    "    def move_vial_across_rack(self, vial: LiquidHandlerVial, from_rack: LiquidHandlerRack, to_rack: LiquidHandlerRack):\n",
    "        self.remove_vial_from_rack(vial, from_rack)\n",
    "        self.move_vial_to_rack(vial, to_rack)\n"
   ]
  },
  {
   "cell_type": "code",
   "execution_count": 5,
   "metadata": {},
   "outputs": [],
   "source": [
    "class ConsistsOf(TransitiveProperty):\n",
    "    rdfs_isDefinedBy = DummyLabOntology\n",
    "\n",
    "IsFilledWith = ObjectProperty.create_from_base('IsFilledWith', DummyLabOntology, 0, 1)"
   ]
  },
  {
   "cell_type": "code",
   "execution_count": 6,
   "metadata": {},
   "outputs": [],
   "source": [
    "RoundBottom = DatatypeProperty.create_from_base('RoundBottom', DummyLabOntology, 0, 1)\n",
    "LocationID = DatatypeProperty.create_from_base('LocationID', DummyLabOntology)\n",
    "PreparationTimestamp = DatatypeProperty.create_from_base('PreparationTimestamp', DummyLabOntology, 0, 1)\n",
    "Name = DatatypeProperty.create_from_base('Name', DummyLabOntology, 1, 1)\n",
    "Transparency = DatatypeProperty.create_from_base('Transparency', DummyLabOntology, 1, 1)\n",
    "MaximumSlots = DatatypeProperty.create_from_base('MaximumSlots', DummyLabOntology, 1, 1)"
   ]
  },
  {
   "cell_type": "markdown",
   "metadata": {},
   "source": [
    "## Step 2: Setup Docker and SPARQL Client\n",
    "\n",
    "### Start Blazegraph Docker Container\n",
    "This step spins up a Blazegraph container to serve as our triple store.\n"
   ]
  },
  {
   "cell_type": "code",
   "execution_count": 7,
   "metadata": {},
   "outputs": [],
   "source": [
    "import docker\n",
    "# Connect to Docker using the default socket or the configuration in your environment:\n",
    "client = docker.from_env()\n",
    "\n",
    "# Run Blazegraph container\n",
    "# It returns a Container object that we will need later for stopping it\n",
    "blazegraph = client.containers.run(\n",
    "    'ghcr.io/cambridge-cares/blazegraph:1.1.0',\n",
    "    ports={'8080/tcp': 9999}, # this binds the internal port 8080/tcp to the external port 9998\n",
    "    detach=True # this runs the container in the background\n",
    ")"
   ]
  },
  {
   "cell_type": "markdown",
   "metadata": {},
   "source": [
    "### Define and initialize SPARQL Client\n",
    "\n",
    "We can also define a custom SPARQL Client to host queries that are commonly used but not covered by OGM."
   ]
  },
  {
   "cell_type": "code",
   "execution_count": 8,
   "metadata": {},
   "outputs": [],
   "source": [
    "class LabSparqlClient(PySparqlClient):\n",
    "    def get_rack_vial_location(self, rack_iris: list):\n",
    "        st = f\"\"\"SELECT ?rack ?vial ?location WHERE {{\n",
    "                VALUES ?rack {{ <{\"> <\".join(rack_iris)}> }} .\n",
    "                ?rack <{ConsistsOf.predicate_iri}> ?vial.\n",
    "                ?vial <{LocationID.predicate_iri}> ?location.\n",
    "            }}\"\"\"\n",
    "        print(st)\n",
    "        return self.perform_query(st)"
   ]
  },
  {
   "cell_type": "markdown",
   "metadata": {},
   "source": [
    "Connect to the Blazegraph instance using the SPARQL client."
   ]
  },
  {
   "cell_type": "code",
   "execution_count": 9,
   "metadata": {},
   "outputs": [],
   "source": [
    "sparql_endpoint = 'http://localhost:9999/blazegraph/namespace/kb/sparql'\n",
    "sparql_client = LabSparqlClient(sparql_endpoint, sparql_endpoint)"
   ]
  },
  {
   "cell_type": "markdown",
   "metadata": {},
   "source": [
    "### Export Ontology to Triple Store\n",
    "Export the defined ontology to the Blazegraph triple store.\n"
   ]
  },
  {
   "cell_type": "code",
   "execution_count": 10,
   "metadata": {},
   "outputs": [],
   "source": [
    "DummyLabOntology.export_to_triple_store(sparql_client)"
   ]
  },
  {
   "cell_type": "markdown",
   "metadata": {},
   "source": [
    "## Step 3: Create and Manage Lab Objects\n",
    "\n",
    "### Instantiate Lab Objects\n",
    "Create instances of chemical solutions, vials, and racks.\n"
   ]
  },
  {
   "cell_type": "code",
   "execution_count": 11,
   "metadata": {},
   "outputs": [],
   "source": [
    "# Instantiate a chemical solution\n",
    "chemical_1 = ChemicalSolution(name='water', preparationTimestamp=int(time.time()))\n",
    "\n",
    "# Instantiate two vials\n",
    "vial_1 = LiquidHandlerVial(\n",
    "    rdfs_label='vial_1',\n",
    "    roundBottom=True,\n",
    "    transparency=True,\n",
    "    isFilledWith=chemical_1,\n",
    ")\n",
    "vial_2 = LiquidHandlerVial(\n",
    "    rdfs_label='vial_2',\n",
    "    roundBottom=False,\n",
    "    transparency=False,\n",
    ")\n",
    "\n",
    "# Instantiate two racks\n",
    "# each with a different number of slots\n",
    "# and each containing one of the vials\n",
    "rack_1 = LiquidHandlerRack(rdfs_label='rack_1', maximumSlots=5)\n",
    "rack_2 = LiquidHandlerRack(rdfs_label='rack_1', maximumSlots=3)\n",
    "rack_1.init_vial(vial_1)\n",
    "rack_2.init_vial(vial_2)\n",
    "\n",
    "# Instantiate a liquid handler that manages the two racks\n",
    "liquid_handler = LiquidHandler(consistsOf=[rack_1, rack_2])"
   ]
  },
  {
   "cell_type": "markdown",
   "metadata": {},
   "source": [
    "### Push Objects to Triple Store\n",
    "Push the instantiated objects to the triple store. Note the `recursive_depth` is set to -1 to push all triples.\n"
   ]
  },
  {
   "cell_type": "code",
   "execution_count": 12,
   "metadata": {},
   "outputs": [
    {
     "data": {
      "text/plain": [
       "(<Graph identifier=Ncb4d83e11bf240d0b6e066c1aba66858 (<class 'rdflib.graph.Graph'>)>,\n",
       " <Graph identifier=Nc3b38b2b46454ab3824155b5a60e5ac0 (<class 'rdflib.graph.Graph'>)>)"
      ]
     },
     "execution_count": 12,
     "metadata": {},
     "output_type": "execute_result"
    }
   ],
   "source": [
    "liquid_handler.push_to_kg(\n",
    "    sparql_client=sparql_client,\n",
    "    recursive_depth=-1\n",
    ")"
   ]
  },
  {
   "cell_type": "markdown",
   "metadata": {},
   "source": [
    "## Step 4: Perform Queries and Operations\n",
    "\n",
    "### Query Vial Locations\n",
    "Retrieve the locations of vials in the racks.\n"
   ]
  },
  {
   "cell_type": "code",
   "execution_count": 13,
   "metadata": {},
   "outputs": [
    {
     "name": "stdout",
     "output_type": "stream",
     "text": [
      "SELECT ?rack ?vial ?location WHERE {\n",
      "                VALUES ?rack { <https://dummy.example/kg/dummylab/LiquidHandlerRack_f461dddd-d176-4a46-854e-2843d8c3fe0f> <https://dummy.example/kg/dummylab/LiquidHandlerRack_ca860491-9e2b-4e06-adde-b4294bfc8207> } .\n",
      "                ?rack <https://dummy.example/kg/dummylab/consistsOf> ?vial.\n",
      "                ?vial <https://dummy.example/kg/dummylab/locationID> ?location.\n",
      "            }\n"
     ]
    },
    {
     "data": {
      "text/plain": [
       "[{'rack': 'https://dummy.example/kg/dummylab/LiquidHandlerRack_f461dddd-d176-4a46-854e-2843d8c3fe0f',\n",
       "  'vial': 'https://dummy.example/kg/dummylab/LiquidHandlerVial_99b8c7a3-6bd3-4e0b-9315-b067eeda4cd8',\n",
       "  'location': '0'},\n",
       " {'rack': 'https://dummy.example/kg/dummylab/LiquidHandlerRack_ca860491-9e2b-4e06-adde-b4294bfc8207',\n",
       "  'vial': 'https://dummy.example/kg/dummylab/LiquidHandlerVial_cf08d11d-110d-4998-a58b-847cf82c8f11',\n",
       "  'location': '0'}]"
      ]
     },
     "execution_count": 13,
     "metadata": {},
     "output_type": "execute_result"
    }
   ],
   "source": [
    "sparql_client.get_rack_vial_location([rack_1.instance_iri, rack_2.instance_iri])"
   ]
  },
  {
   "cell_type": "markdown",
   "metadata": {},
   "source": [
    "### Move Vials Between Racks\n",
    "Perform operations to move vials between racks and update the triple store.\n"
   ]
  },
  {
   "cell_type": "code",
   "execution_count": 14,
   "metadata": {},
   "outputs": [
    {
     "data": {
      "text/plain": [
       "(<Graph identifier=Nd32389ebd3924601a4b327d6f522fc62 (<class 'rdflib.graph.Graph'>)>,\n",
       " <Graph identifier=N9a58822fd98546a197af53c7e9ed0b9e (<class 'rdflib.graph.Graph'>)>)"
      ]
     },
     "execution_count": 14,
     "metadata": {},
     "output_type": "execute_result"
    }
   ],
   "source": [
    "# Move vial_1 from rack_1 to rack_2\n",
    "liquid_handler.move_vial_across_rack(vial_1, rack_1, rack_2)\n",
    "\n",
    "# Move vial_2 from rack_2 to rack_1\n",
    "liquid_handler.move_vial_across_rack(vial_2, rack_2, rack_1)\n",
    "\n",
    "# Update the triplestore with the new locations of the vials\n",
    "liquid_handler.push_to_kg(sparql_client=sparql_client, recursive_depth=-1, pull_first=True)"
   ]
  },
  {
   "cell_type": "markdown",
   "metadata": {},
   "source": [
    "### Query Updated Vial Locations\n",
    "Retrieve the updated locations of vials after the operations.\n"
   ]
  },
  {
   "cell_type": "code",
   "execution_count": 15,
   "metadata": {},
   "outputs": [
    {
     "name": "stdout",
     "output_type": "stream",
     "text": [
      "SELECT ?rack ?vial ?location WHERE {\n",
      "                VALUES ?rack { <https://dummy.example/kg/dummylab/LiquidHandlerRack_f461dddd-d176-4a46-854e-2843d8c3fe0f> <https://dummy.example/kg/dummylab/LiquidHandlerRack_ca860491-9e2b-4e06-adde-b4294bfc8207> } .\n",
      "                ?rack <https://dummy.example/kg/dummylab/consistsOf> ?vial.\n",
      "                ?vial <https://dummy.example/kg/dummylab/locationID> ?location.\n",
      "            }\n"
     ]
    },
    {
     "data": {
      "text/plain": [
       "[{'rack': 'https://dummy.example/kg/dummylab/LiquidHandlerRack_ca860491-9e2b-4e06-adde-b4294bfc8207',\n",
       "  'vial': 'https://dummy.example/kg/dummylab/LiquidHandlerVial_99b8c7a3-6bd3-4e0b-9315-b067eeda4cd8',\n",
       "  'location': '1'},\n",
       " {'rack': 'https://dummy.example/kg/dummylab/LiquidHandlerRack_f461dddd-d176-4a46-854e-2843d8c3fe0f',\n",
       "  'vial': 'https://dummy.example/kg/dummylab/LiquidHandlerVial_cf08d11d-110d-4998-a58b-847cf82c8f11',\n",
       "  'location': '0'}]"
      ]
     },
     "execution_count": 15,
     "metadata": {},
     "output_type": "execute_result"
    }
   ],
   "source": [
    "sparql_client.get_rack_vial_location([rack_1.instance_iri, rack_2.instance_iri])"
   ]
  },
  {
   "cell_type": "markdown",
   "metadata": {},
   "source": [
    "It is clear that the location of vial `https://dummy.example/kg/dummylab/LiquidHandlerVial_5158347c-38ed-4b2a-82c9-5fd8051c0be7` is now changed from one rack to another rack, as well as the internal location in the rack."
   ]
  },
  {
   "cell_type": "markdown",
   "metadata": {},
   "source": [
    "## Clean up\n",
    "### Stop Blazegraph Docker Container"
   ]
  },
  {
   "cell_type": "code",
   "execution_count": 16,
   "metadata": {},
   "outputs": [],
   "source": [
    "blazegraph.stop()"
   ]
  },
  {
   "cell_type": "markdown",
   "metadata": {},
   "source": [
    "If one wish to remove the blazegraph container:"
   ]
  },
  {
   "cell_type": "code",
   "execution_count": 17,
   "metadata": {},
   "outputs": [],
   "source": [
    "blazegraph.remove()"
   ]
  }
 ],
 "metadata": {
  "kernelspec": {
   "display_name": "Python 3.10.4 ('twa')",
   "language": "python",
   "name": "python3"
  },
  "language_info": {
   "codemirror_mode": {
    "name": "ipython",
    "version": 3
   },
   "file_extension": ".py",
   "mimetype": "text/x-python",
   "name": "python",
   "nbconvert_exporter": "python",
   "pygments_lexer": "ipython3",
   "version": "3.10.4"
  },
  "orig_nbformat": 4,
  "vscode": {
   "interpreter": {
    "hash": "e4527f356916b87c653ca97dbca0f79438740cdaefd9e1d0790d2ff1fccc3130"
   }
  }
 },
 "nbformat": 4,
 "nbformat_minor": 2
}
